{
  "nbformat": 4,
  "nbformat_minor": 0,
  "metadata": {
    "colab": {
      "name": "Training A CNN.ipynb",
      "version": "0.3.2",
      "provenance": []
    },
    "kernelspec": {
      "name": "python3",
      "display_name": "Python 3"
    },
    "accelerator": "GPU"
  },
  "cells": [
    {
      "cell_type": "markdown",
      "metadata": {
        "id": "rVJlu0iDAe1I",
        "colab_type": "text"
      },
      "source": [
        "### RIHAD VARIAWA\n",
        "#### 23-05-2019\n",
        "\n",
        "Training a convolutional neural network, using the MNIST data frame for handwritten digits classification.\n",
        "\n",
        "### Loading libraries"
      ]
    },
    {
      "cell_type": "code",
      "metadata": {
        "id": "SzWdmBAP6x8b",
        "colab_type": "code",
        "colab": {
          "base_uri": "https://localhost:8080/",
          "height": 34
        },
        "outputId": "e4db4792-2938-424b-b299-441b7c96b5c7"
      },
      "source": [
        "import numpy as np\n",
        "np.random.seed(123) # for reproducibility\n",
        "\n",
        "from keras.models import Sequential\n",
        "from keras.layers import Dense, Dropout, Activation, Flatten\n",
        "from keras.layers import Convolution2D, MaxPooling2D\n",
        "from keras.utils import np_utils\n",
        "from keras.datasets import mnist"
      ],
      "execution_count": 1,
      "outputs": [
        {
          "output_type": "stream",
          "text": [
            "Using TensorFlow backend.\n"
          ],
          "name": "stderr"
        }
      ]
    },
    {
      "cell_type": "markdown",
      "metadata": {
        "id": "IIRG1abGBBua",
        "colab_type": "text"
      },
      "source": [
        "### Load pre-shuffled mnist data into training and testing sets"
      ]
    },
    {
      "cell_type": "code",
      "metadata": {
        "id": "wD6pRFD662l5",
        "colab_type": "code",
        "colab": {}
      },
      "source": [
        "(X_train, y_train), (X_test, y_test) = mnist.load_data()"
      ],
      "execution_count": 0,
      "outputs": []
    },
    {
      "cell_type": "markdown",
      "metadata": {
        "id": "3Ch5My1HBUcN",
        "colab_type": "text"
      },
      "source": [
        "### Pre-process input data"
      ]
    },
    {
      "cell_type": "code",
      "metadata": {
        "id": "DZaMC8uG62d7",
        "colab_type": "code",
        "colab": {}
      },
      "source": [
        "X_train = X_train.reshape(X_train.shape[0], 1, 28, 28)\n",
        "X_test = X_test.reshape(X_test.shape[0], 1, 28, 28)\n",
        "X_train = X_train.astype('float32')\n",
        "X_test = X_test.astype('float32')\n",
        "X_train /= 255\n",
        "X_test /= 255"
      ],
      "execution_count": 0,
      "outputs": []
    },
    {
      "cell_type": "markdown",
      "metadata": {
        "id": "CGtSSDxJBaU6",
        "colab_type": "text"
      },
      "source": [
        "### Pre-process class labels"
      ]
    },
    {
      "cell_type": "code",
      "metadata": {
        "id": "SFsy8Wok62VS",
        "colab_type": "code",
        "colab": {}
      },
      "source": [
        "Y_train = np_utils.to_categorical(y_train, 10)\n",
        "Y_test = np_utils.to_categorical(y_test, 10)"
      ],
      "execution_count": 0,
      "outputs": []
    },
    {
      "cell_type": "markdown",
      "metadata": {
        "id": "ky8ZyLTFBflY",
        "colab_type": "text"
      },
      "source": [
        "### Define model architecture"
      ]
    },
    {
      "cell_type": "code",
      "metadata": {
        "id": "jSzdLYcZ62NL",
        "colab_type": "code",
        "colab": {
          "base_uri": "https://localhost:8080/",
          "height": 125
        },
        "outputId": "4d8e65b6-4e47-47e4-e158-bb7d2b8dd32a"
      },
      "source": [
        "model = Sequential()\n",
        "model.add(Convolution2D(32, (3, 3), activation='relu', input_shape=(1,28,28), data_format='channels_first'))\n",
        "model.add(Convolution2D(32, 3, 3, activation='relu'))\n",
        "model.add(MaxPooling2D(pool_size=(2,2)))\n",
        "model.add(Dropout(0.25))\n",
        "\n",
        "model.add(Flatten())\n",
        "model.add(Dense(128, activation='relu'))\n",
        "model.add(Dropout(0.5))\n",
        "model.add(Dense(10, activation='softmax'))"
      ],
      "execution_count": 6,
      "outputs": [
        {
          "output_type": "stream",
          "text": [
            "WARNING:tensorflow:From /usr/local/lib/python3.6/dist-packages/keras/backend/tensorflow_backend.py:3445: calling dropout (from tensorflow.python.ops.nn_ops) with keep_prob is deprecated and will be removed in a future version.\n",
            "Instructions for updating:\n",
            "Please use `rate` instead of `keep_prob`. Rate should be set to `rate = 1 - keep_prob`.\n"
          ],
          "name": "stdout"
        },
        {
          "output_type": "stream",
          "text": [
            "/usr/local/lib/python3.6/dist-packages/ipykernel_launcher.py:3: UserWarning: Update your `Conv2D` call to the Keras 2 API: `Conv2D(32, (3, 3), activation=\"relu\")`\n",
            "  This is separate from the ipykernel package so we can avoid doing imports until\n"
          ],
          "name": "stderr"
        }
      ]
    },
    {
      "cell_type": "markdown",
      "metadata": {
        "id": "0QD9hEpeBn5f",
        "colab_type": "text"
      },
      "source": [
        "### Build model"
      ]
    },
    {
      "cell_type": "code",
      "metadata": {
        "id": "HgJNcXJP62C0",
        "colab_type": "code",
        "colab": {}
      },
      "source": [
        "model.compile(loss='categorical_crossentropy',\n",
        "              optimizer='adam',\n",
        "              metrics=['accuracy'])"
      ],
      "execution_count": 0,
      "outputs": []
    },
    {
      "cell_type": "markdown",
      "metadata": {
        "id": "-4TTmNkHBtrS",
        "colab_type": "text"
      },
      "source": [
        "### Fit model on training data"
      ]
    },
    {
      "cell_type": "code",
      "metadata": {
        "id": "CEnDswd38e7H",
        "colab_type": "code",
        "colab": {
          "base_uri": "https://localhost:8080/",
          "height": 498
        },
        "outputId": "e1765ed9-df0c-415a-c079-bf49507ae0ff"
      },
      "source": [
        "model.fit(X_train, Y_train,\n",
        "          batch_size=32, nb_epoch=10, verbose=1)"
      ],
      "execution_count": 8,
      "outputs": [
        {
          "output_type": "stream",
          "text": [
            "WARNING:tensorflow:From /usr/local/lib/python3.6/dist-packages/tensorflow/python/ops/math_ops.py:3066: to_int32 (from tensorflow.python.ops.math_ops) is deprecated and will be removed in a future version.\n",
            "Instructions for updating:\n",
            "Use tf.cast instead.\n"
          ],
          "name": "stdout"
        },
        {
          "output_type": "stream",
          "text": [
            "/usr/local/lib/python3.6/dist-packages/ipykernel_launcher.py:2: UserWarning: The `nb_epoch` argument in `fit` has been renamed `epochs`.\n",
            "  \n"
          ],
          "name": "stderr"
        },
        {
          "output_type": "stream",
          "text": [
            "Epoch 1/10\n",
            "60000/60000 [==============================] - 12s 204us/step - loss: 0.2465 - acc: 0.9258\n",
            "Epoch 2/10\n",
            "60000/60000 [==============================] - 8s 136us/step - loss: 0.1000 - acc: 0.9699\n",
            "Epoch 3/10\n",
            "60000/60000 [==============================] - 8s 139us/step - loss: 0.0780 - acc: 0.9768\n",
            "Epoch 4/10\n",
            "60000/60000 [==============================] - 9s 144us/step - loss: 0.0652 - acc: 0.9806\n",
            "Epoch 5/10\n",
            "60000/60000 [==============================] - 9s 148us/step - loss: 0.0567 - acc: 0.9823\n",
            "Epoch 6/10\n",
            "60000/60000 [==============================] - 8s 141us/step - loss: 0.0503 - acc: 0.9848\n",
            "Epoch 7/10\n",
            "60000/60000 [==============================] - 8s 138us/step - loss: 0.0428 - acc: 0.9865\n",
            "Epoch 8/10\n",
            "60000/60000 [==============================] - 8s 137us/step - loss: 0.0405 - acc: 0.9874\n",
            "Epoch 9/10\n",
            "60000/60000 [==============================] - 8s 137us/step - loss: 0.0396 - acc: 0.9873\n",
            "Epoch 10/10\n",
            "60000/60000 [==============================] - 8s 137us/step - loss: 0.0341 - acc: 0.9892\n"
          ],
          "name": "stdout"
        },
        {
          "output_type": "execute_result",
          "data": {
            "text/plain": [
              "<keras.callbacks.History at 0x7f725021c860>"
            ]
          },
          "metadata": {
            "tags": []
          },
          "execution_count": 8
        }
      ]
    },
    {
      "cell_type": "markdown",
      "metadata": {
        "id": "cAu7E23-B5sG",
        "colab_type": "text"
      },
      "source": [
        "### Evaluate model on test data"
      ]
    },
    {
      "cell_type": "code",
      "metadata": {
        "id": "EjijhNa68ez7",
        "colab_type": "code",
        "colab": {
          "base_uri": "https://localhost:8080/",
          "height": 34
        },
        "outputId": "e6f95d4f-9421-4921-91b7-c2885279f7fe"
      },
      "source": [
        "score = model.evaluate(X_test, Y_test, verbose=0)\n",
        "print(score)"
      ],
      "execution_count": 10,
      "outputs": [
        {
          "output_type": "stream",
          "text": [
            "[0.028054657766594847, 0.9921]\n"
          ],
          "name": "stdout"
        }
      ]
    },
    {
      "cell_type": "markdown",
      "metadata": {
        "id": "0m06o6yPCCsA",
        "colab_type": "text"
      },
      "source": [
        "# Our classifier has achieved a 99% accuracy"
      ]
    }
  ]
}